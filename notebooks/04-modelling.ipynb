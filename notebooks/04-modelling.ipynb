{
 "cells": [
  {
   "cell_type": "markdown",
   "metadata": {},
   "source": [
    "For the final model, I decided to pick logistic regression because it looked very promising and seemed to give good results."
   ]
  },
  {
   "cell_type": "code",
   "execution_count": 2,
   "metadata": {},
   "outputs": [],
   "source": [
    "import numpy as np\n",
    "import pandas as pd\n",
    "import seaborn as sns\n",
    "from sklearn.linear_model import LinearRegression\n",
    "from sklearn.linear_model import LogisticRegression\n",
    "\n",
    "from sklearn.model_selection import train_test_split\n",
    "from sklearn.metrics import mean_squared_error\n",
    "from itertools import combinations\n",
    "from itertools import permutations\n",
    "\n",
    "import random\n",
    "\n",
    "from sklearn import tree\n",
    "from sklearn.tree import DecisionTreeClassifier\n",
    "from sklearn.metrics import accuracy_score, confusion_matrix\n",
    "import matplotlib.pyplot as plt\n"
   ]
  },
  {
   "cell_type": "code",
   "execution_count": 3,
   "metadata": {},
   "outputs": [],
   "source": [
    "word_data = pd.read_csv('../data/unigram_freq.csv')\n",
    "word_data_top1000 = word_data.head(1000)\n",
    "\n",
    "wheel_data = pd.read_csv('../data/wheeldata.csv')\n",
    "wheel_data_nodup = wheel_data.drop_duplicates(subset=['Puzzle'])\n"
   ]
  },
  {
   "cell_type": "code",
   "execution_count": 7,
   "metadata": {},
   "outputs": [
    {
     "name": "stderr",
     "output_type": "stream",
     "text": [
      "C:\\Users\\axylo\\AppData\\Local\\Temp\\ipykernel_19480\\841453476.py:3: SettingWithCopyWarning: \n",
      "A value is trying to be set on a copy of a slice from a DataFrame.\n",
      "Try using .loc[row_indexer,col_indexer] = value instead\n",
      "\n",
      "See the caveats in the documentation: https://pandas.pydata.org/pandas-docs/stable/user_guide/indexing.html#returning-a-view-versus-a-copy\n",
      "  wheel_data_nodup['Puzzle'] = wheel_data_nodup.Puzzle.astype('str')\n"
     ]
    }
   ],
   "source": [
    "# regression set up - duplicated from other file\n",
    "\n",
    "wheel_data_nodup['Puzzle'] = wheel_data_nodup.Puzzle.astype('str')\n",
    "\n",
    "excluded = {'R', 'S', 'T', 'L', 'N', 'E', ' '}\n",
    "letters = [chr(i) for i in range(65, 91) if chr(i) not in excluded]\n",
    "\n",
    "vowels = {'A', 'E', 'I', 'O', 'U'}\n",
    "consonants = set(letters) - vowels\n",
    "\n",
    "\n",
    "def get_feature_vector(puzzle, guess_set):\n",
    "    puzzle = puzzle.upper()\n",
    "    letter_counts = [puzzle.count(l) for l in letters]\n",
    "    guess_vector = [1 if l in guess_set else 0 for l in letters]\n",
    "    return letter_counts + guess_vector\n",
    "\n",
    "def get_reveal_score(puzzle, guess_set): # we make a guess with a combo of letters \n",
    "    return sum(1 for c in puzzle.upper() if c in guess_set and c not in excluded)/len(puzzle)\n",
    "\n",
    "X_combinations = []\n",
    "y_regress = []\n",
    "\n",
    "guess_list = [] # this list stores all the guesses we used\n",
    "\n",
    "for idx, row in wheel_data_nodup.iterrows():\n",
    "    puzzle = row['Puzzle']\n",
    "    puzzle_letters = set(puzzle.upper()) - excluded\n",
    "\n",
    "    guesses = []\n",
    "    for i in range(1000):\n",
    "        cons = random.sample(list(consonants), 3)\n",
    "        vwls = random.sample(list(vowels), 1)\n",
    "        guesses.append(cons+vwls)\n",
    "\n",
    "    for guess in guesses:\n",
    "        guess_set = set(guess)\n",
    "        features = get_feature_vector(puzzle, guess_set)\n",
    "        score = get_reveal_score(puzzle, guess_set)\n",
    "        \n",
    "        X_combinations.append(features)\n",
    "        y_regress.append(score)\n",
    "        guess_list.append(''.join(guess))"
   ]
  },
  {
   "cell_type": "code",
   "execution_count": 14,
   "metadata": {},
   "outputs": [
    {
     "name": "stdout",
     "output_type": "stream",
     "text": [
      "Accuracy Score:  0.9990677374301676\n"
     ]
    }
   ],
   "source": [
    "# logistic regression model code\n",
    "\n",
    "# classification target\n",
    "y_class = [1 if score >= 0.5 else 0 for score in y_regress] \n",
    "\n",
    "X_train, X_test, y_train, y_test = train_test_split(X_combinations, y_class, test_size=0.2, random_state=42)\n",
    "\n",
    "# fit to model\n",
    "log_model = LogisticRegression(max_iter=1000)\n",
    "log_model.fit(X_train, y_train)\n",
    "\n",
    "# predict probabilities and classes\n",
    "y_pred_proba = log_model.predict_proba(X_test)[:, 1]\n",
    "y_pred = log_model.predict(X_test)\n",
    "acc = accuracy_score(y_test, y_pred)\n",
    "\n",
    "print(\"Accuracy Score: \", acc)"
   ]
  },
  {
   "cell_type": "code",
   "execution_count": null,
   "metadata": {},
   "outputs": [],
   "source": []
  }
 ],
 "metadata": {
  "kernelspec": {
   "display_name": "Python 3",
   "language": "python",
   "name": "python3"
  },
  "language_info": {
   "codemirror_mode": {
    "name": "ipython",
    "version": 3
   },
   "file_extension": ".py",
   "mimetype": "text/x-python",
   "name": "python",
   "nbconvert_exporter": "python",
   "pygments_lexer": "ipython3",
   "version": "3.12.5"
  },
  "orig_nbformat": 4
 },
 "nbformat": 4,
 "nbformat_minor": 2
}
